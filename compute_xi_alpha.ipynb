{
 "cells": [
  {
   "cell_type": "code",
   "execution_count": null,
   "metadata": {},
   "outputs": [],
   "source": [
    "import numpy as np\n",
    "import matplotlib.pyplot as plt\n",
    "\n",
    "# 定义n的计算公式\n",
    "def compute_n(xi, alpha):\n",
    "    return (32 / xi**2) * np.log(4 / alpha)**2\n",
    "\n",
    "# 创建xi和alpha的范围（避免除零错误，可以在0附近设置一些小值）\n",
    "xi = np.linspace(0.01, 1, 100)  # xi从0.01到1\n",
    "alpha = np.linspace(0.01, 1, 100)  # alpha从0.01到1\n",
    "\n",
    "# 创建网格\n",
    "Xi, Alpha = np.meshgrid(xi, alpha)\n",
    "\n",
    "# 计算n的值\n",
    "N = compute_n(Xi, Alpha)\n",
    "\n",
    "# 创建图像\n",
    "plt.figure(figsize=(8, 6))\n",
    "cp = plt.contourf(Xi, Alpha, N, levels=50, cmap='viridis')\n",
    "plt.colorbar(cp)  # 添加颜色条\n",
    "plt.title(r\"$n = \\frac{32}{\\xi^2} \\log^2\\left(\\frac{4}{\\alpha}\\right)$\", fontsize=14)\n",
    "plt.xlabel(r\"$\\xi$\", fontsize=12)\n",
    "plt.ylabel(r\"$\\alpha$\", fontsize=12)\n",
    "plt.grid(True)\n",
    "plt.show()"
   ]
  }
 ],
 "metadata": {
  "language_info": {
   "name": "python"
  }
 },
 "nbformat": 4,
 "nbformat_minor": 2
}
